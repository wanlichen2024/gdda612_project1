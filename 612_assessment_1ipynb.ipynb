{
  "nbformat": 4,
  "nbformat_minor": 0,
  "metadata": {
    "colab": {
      "provenance": [],
      "mount_file_id": "1XW9S2F0CaDt1WHLlXFraV2cjkQFGXMAf",
      "authorship_tag": "ABX9TyPifWzWgwSMX7e7sJkXJBpH",
      "include_colab_link": true
    },
    "kernelspec": {
      "name": "python3",
      "display_name": "Python 3"
    },
    "language_info": {
      "name": "python"
    }
  },
  "cells": [
    {
      "cell_type": "markdown",
      "metadata": {
        "id": "view-in-github",
        "colab_type": "text"
      },
      "source": [
        "<a href=\"https://colab.research.google.com/github/wanlichen2024/gdda612_project1/blob/main/612_assessment_1ipynb.ipynb\" target=\"_parent\"><img src=\"https://colab.research.google.com/assets/colab-badge.svg\" alt=\"Open In Colab\"/></a>"
      ]
    },
    {
      "cell_type": "code",
      "execution_count": 123,
      "metadata": {
        "colab": {
          "base_uri": "https://localhost:8080/"
        },
        "id": "jdNHP0OxK16V",
        "outputId": "14ddf6ba-a64d-4350-db7f-e7c64315f913"
      },
      "outputs": [
        {
          "output_type": "stream",
          "name": "stdout",
          "text": [
            "Drive already mounted at /content/drive; to attempt to forcibly remount, call drive.mount(\"/content/drive\", force_remount=True).\n"
          ]
        }
      ],
      "source": [
        "from google.colab import drive\n",
        "drive.mount('/content/drive')"
      ]
    },
    {
      "cell_type": "code",
      "source": [
        "import requests\n",
        "from bs4 import BeautifulSoup\n",
        "import pandas as pd\n",
        "from urllib.parse import urljoin\n",
        "import lxml.html\n",
        "import csv\n",
        "import json"
      ],
      "metadata": {
        "id": "0n7gox96VfYJ"
      },
      "execution_count": 124,
      "outputs": []
    },
    {
      "cell_type": "code",
      "source": [
        "'''\n",
        "https://www.noelleeming.co.nz/c/top-brands/apple\n",
        "https://www.noelleeming.co.nz/c/top-brands/apple?start=32\n",
        "https://www.noelleeming.co.nz/c/top-brands/apple?start=64\n",
        "'''"
      ],
      "metadata": {
        "colab": {
          "base_uri": "https://localhost:8080/",
          "height": 52
        },
        "id": "1roBHOKUrt08",
        "outputId": "76ec261b-8985-472e-a365-0edb09a1e8fe"
      },
      "execution_count": 125,
      "outputs": [
        {
          "output_type": "execute_result",
          "data": {
            "text/plain": [
              "'\\nhttps://www.noelleeming.co.nz/c/top-brands/apple\\nhttps://www.noelleeming.co.nz/c/top-brands/apple?start=32\\nhttps://www.noelleeming.co.nz/c/top-brands/apple?start=64\\n'"
            ],
            "application/vnd.google.colaboratory.intrinsic+json": {
              "type": "string"
            }
          },
          "metadata": {},
          "execution_count": 125
        }
      ]
    },
    {
      "cell_type": "code",
      "source": [
        "url = 'https://www.noelleeming.co.nz/c/top-brands/apple'\n",
        "items_per_page = 32  # number of product at each page\n",
        "\n",
        "# initiate a list\n",
        "all_items = []\n",
        "\n",
        "# total 18 pages\n",
        "total_pages = 18\n",
        "\n",
        "# a loop go through 18 page\n",
        "for page_num in range(total_pages):\n",
        "    if page_num == 0:\n",
        "        url = url\n",
        "    else:\n",
        "        start_value = page_num * items_per_page\n",
        "        url = f'{url}?start={start_value}'\n",
        "\n",
        "    # request every page content\n",
        "    response = requests.get(url)\n",
        "    if response.status_code != 200:\n",
        "        print(f\"Failed to retrieve page {page_num}\")\n",
        "        continue\n",
        "\n",
        "    # using beautifil soup to extract every page\n",
        "    soup = BeautifulSoup(response.content, 'html.parser')\n",
        "\n",
        "    # find all product tile\n",
        "    product_tiles = soup.find_all('div', class_='product-tile')\n",
        "\n",
        "    # extract each product information\n",
        "    for tile in product_tiles:\n",
        "        # extract product name\n",
        "        name_tag = tile.find('a', class_=\"link text-emphasized\")\n",
        "        product_name = name_tag.get_text(strip=True) if name_tag else 'N/A'\n",
        "\n",
        "        # extract price\n",
        "        try:\n",
        "            product_data = tile['data-gtm-product']\n",
        "            product_info = json.loads(product_data)\n",
        "            product_price = product_info.get('price', 'N/A').replace('$', '').replace(',', '')\n",
        "        except (KeyError, json.JSONDecodeError):\n",
        "            product_price = 'N/A'\n",
        "\n",
        "        # extract rating\n",
        "        rating_tag = tile.find('span', class_=\"sr-only selected-assistive-text\")\n",
        "        product_rating = rating_tag.get_text(strip=True).split(':')[-1].strip() if rating_tag else 'N/A'\n",
        "\n",
        "        # input inforamation to the list\n",
        "        all_items.append({\n",
        "            'product_name': product_name,\n",
        "            'product_price': product_price,\n",
        "            'product_rating': product_rating\n",
        "        })\n",
        "\n",
        "    print(f\"Page {page_num} processed successfully.\")\n",
        "\n",
        "# save as csv format\n",
        "with open('all_productsl_lm.csv', 'w', newline='', encoding='utf-8') as f:\n",
        "    writer = csv.DictWriter(f, fieldnames=['product_name', 'product_price', 'product_rating'])\n",
        "    writer.writeheader()\n",
        "    writer.writerows(all_items)\n",
        "\n",
        "print(\"All information has been saved all_products_lm.csv\")\n",
        "\n"
      ],
      "metadata": {
        "colab": {
          "base_uri": "https://localhost:8080/"
        },
        "id": "QvH29V-Ukiu8",
        "outputId": "9bb64f9e-7f2b-4265-b3fa-c2f83e40944b"
      },
      "execution_count": 126,
      "outputs": [
        {
          "output_type": "stream",
          "name": "stdout",
          "text": [
            "Page 0 processed successfully.\n",
            "Page 1 processed successfully.\n",
            "Page 2 processed successfully.\n",
            "Page 3 processed successfully.\n",
            "Page 4 processed successfully.\n",
            "Page 5 processed successfully.\n",
            "Page 6 processed successfully.\n",
            "Page 7 processed successfully.\n",
            "Page 8 processed successfully.\n",
            "Page 9 processed successfully.\n",
            "Page 10 processed successfully.\n",
            "Page 11 processed successfully.\n",
            "Page 12 processed successfully.\n",
            "Page 13 processed successfully.\n",
            "Page 14 processed successfully.\n",
            "Page 15 processed successfully.\n",
            "Page 16 processed successfully.\n",
            "Page 17 processed successfully.\n",
            "All information has been saved all_products_lm.csv\n"
          ]
        }
      ]
    },
    {
      "cell_type": "code",
      "source": [
        "df = pd.read_csv('all_productsl_lm.csv')"
      ],
      "metadata": {
        "id": "4oNM_otAl3Gy"
      },
      "execution_count": 127,
      "outputs": []
    },
    {
      "cell_type": "code",
      "source": [
        "df.shape"
      ],
      "metadata": {
        "colab": {
          "base_uri": "https://localhost:8080/"
        },
        "id": "hZpKynnzR7Mw",
        "outputId": "079ba415-4a12-4d0b-ff23-8c6701c44884"
      },
      "execution_count": 128,
      "outputs": [
        {
          "output_type": "execute_result",
          "data": {
            "text/plain": [
              "(576, 3)"
            ]
          },
          "metadata": {},
          "execution_count": 128
        }
      ]
    },
    {
      "cell_type": "code",
      "source": [
        "df = df.to_csv('/content/drive/MyDrive/all_products_lm.csv', index=False)"
      ],
      "metadata": {
        "id": "FIuajBaISSAB"
      },
      "execution_count": 129,
      "outputs": []
    },
    {
      "cell_type": "code",
      "source": [
        "'''\n",
        "https://www.jbhifi.co.nz/search?query=apple&page=7&hitsPerPage=100\n",
        "\n",
        "\n",
        "'''"
      ],
      "metadata": {
        "colab": {
          "base_uri": "https://localhost:8080/",
          "height": 35
        },
        "id": "e8EuNkfFxe-c",
        "outputId": "a38d0eca-2fe4-476a-f96f-2b1fab663b78"
      },
      "execution_count": 130,
      "outputs": [
        {
          "output_type": "execute_result",
          "data": {
            "text/plain": [
              "'\\nhttps://www.jbhifi.co.nz/search?query=apple&page=7&hitsPerPage=100\\n\\n\\n'"
            ],
            "application/vnd.google.colaboratory.intrinsic+json": {
              "type": "string"
            }
          },
          "metadata": {},
          "execution_count": 130
        }
      ]
    }
  ]
}